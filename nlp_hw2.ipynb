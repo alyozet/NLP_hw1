{
  "nbformat": 4,
  "nbformat_minor": 0,
  "metadata": {
    "colab": {
      "name": "nlp_hw2.ipynb",
      "provenance": []
    },
    "kernelspec": {
      "name": "python3",
      "display_name": "Python 3"
    },
    "language_info": {
      "name": "python"
    }
  },
  "cells": [
    {
      "cell_type": "markdown",
      "metadata": {
        "id": "ziUkeq5wrOlc"
      },
      "source": [
        "### ДЗ по NLP №2\n",
        "\n",
        "\n",
        "1. выделить частотные слова, сделать на их основании словарик хороших из них, увеличить его с помощью эмбеддингов, искать н-граммы (это я и буду реализовывать)\n",
        "2. что-нибудь связанное с шаблонами: составить шаблоны, в которых могут располагаться именованные сущности и по ним поискать. Можно сделать это как продолжение первого пункта: посмотреть на частотные слова и их контексты, из этого уже составлять шаблоны\n",
        "3. можно взять какой-нибудь готовый список названий товаров и искать совпадения. это не поможет нам выделить слова типа \"шампунь\", но мы можем посмотреть на слова, которые часто встречаются рядом с названиями косметики, и там частотными скорее всего будут как раз слова типа \"тушь\", \"шампунь\" и тд, то есть то что нам нужно."
      ]
    },
    {
      "cell_type": "code",
      "metadata": {
        "id": "vlynN8AL-P-o"
      },
      "source": [
        "import gzip\n",
        "import re\n",
        "import pandas as pd\n",
        "import json"
      ],
      "execution_count": 1,
      "outputs": []
    },
    {
      "cell_type": "code",
      "metadata": {
        "id": "Tmwp7Tcu-sQd"
      },
      "source": [
        "def parse(path):\n",
        "  g = gzip.open(path, 'r')\n",
        "  for l in g:\n",
        "    yield eval(l)"
      ],
      "execution_count": 44,
      "outputs": []
    },
    {
      "cell_type": "code",
      "metadata": {
        "id": "fkqcRUc_ce0K"
      },
      "source": [
        "data = parse('reviews_Beauty_5.json.gz')"
      ],
      "execution_count": 45,
      "outputs": []
    },
    {
      "cell_type": "markdown",
      "metadata": {
        "id": "F7ONd-ytsurO"
      },
      "source": [
        "Вынимаем тексты"
      ]
    },
    {
      "cell_type": "code",
      "metadata": {
        "id": "xL2cG-FPcyYi"
      },
      "source": [
        "texts = []\n",
        "for i in data:\n",
        "  texts.append(i['reviewText'])\n",
        "  if len(texts) > 100000:\n",
        "    break"
      ],
      "execution_count": 46,
      "outputs": []
    },
    {
      "cell_type": "code",
      "metadata": {
        "id": "dQ81Q-gzdEO0"
      },
      "source": [
        "texts = list(set(texts))"
      ],
      "execution_count": 47,
      "outputs": []
    },
    {
      "cell_type": "code",
      "metadata": {
        "colab": {
          "base_uri": "https://localhost:8080/"
        },
        "id": "EJDgvlr4jN1E",
        "outputId": "94c4909e-f10d-41ea-e77f-138365116b3c"
      },
      "source": [
        "len(texts)"
      ],
      "execution_count": 48,
      "outputs": [
        {
          "output_type": "execute_result",
          "data": {
            "text/plain": [
              "99971"
            ]
          },
          "metadata": {},
          "execution_count": 48
        }
      ]
    },
    {
      "cell_type": "code",
      "metadata": {
        "colab": {
          "base_uri": "https://localhost:8080/"
        },
        "id": "oTYWc9F4wZt5",
        "outputId": "3ad96828-a4d4-4132-97e9-38f970f08b1e"
      },
      "source": [
        "import nltk\n",
        "nltk.download('wordnet')\n",
        "nltk.download('punkt')\n",
        "from nltk.stem import WordNetLemmatizer\n",
        "lemmatizer = WordNetLemmatizer()"
      ],
      "execution_count": 8,
      "outputs": [
        {
          "output_type": "stream",
          "name": "stdout",
          "text": [
            "[nltk_data] Downloading package wordnet to /root/nltk_data...\n",
            "[nltk_data]   Unzipping corpora/wordnet.zip.\n",
            "[nltk_data] Downloading package punkt to /root/nltk_data...\n",
            "[nltk_data]   Unzipping tokenizers/punkt.zip.\n"
          ]
        }
      ]
    },
    {
      "cell_type": "code",
      "metadata": {
        "id": "_QJwYe6rwqE0"
      },
      "source": [
        "def normalize(text):\n",
        "    text = text.lower()\n",
        "    text = re.sub('[.|,|\"|`]', '', text)\n",
        "    tokens = [w for w in nltk.word_tokenize(text) if w not in '1234567890,.!?-();:\"\"«»—_–#' and '.' not in w]\n",
        "    lemmas = [lemmatizer.lemmatize(t) for t in tokens]\n",
        "    return ' '.join(lemmas)"
      ],
      "execution_count": 49,
      "outputs": []
    },
    {
      "cell_type": "markdown",
      "metadata": {
        "id": "J-nEpsE1syt2"
      },
      "source": [
        "Делаем лемматизированные тексты"
      ]
    },
    {
      "cell_type": "code",
      "metadata": {
        "id": "LBlR-Tq3w0Qw"
      },
      "source": [
        "n_texts = []\n",
        "for text in texts:\n",
        "  n_texts.append(normalize(text))"
      ],
      "execution_count": 50,
      "outputs": []
    },
    {
      "cell_type": "code",
      "metadata": {
        "colab": {
          "base_uri": "https://localhost:8080/"
        },
        "id": "E7bcMn9JvbEh",
        "outputId": "5c2fc76b-fe8d-4368-bc67-5c5a3c821efb"
      },
      "source": [
        "!pip install python-rake"
      ],
      "execution_count": 12,
      "outputs": [
        {
          "output_type": "stream",
          "name": "stdout",
          "text": [
            "Collecting python-rake\n",
            "  Downloading python_rake-1.5.0-py3-none-any.whl (14 kB)\n",
            "Installing collected packages: python-rake\n",
            "Successfully installed python-rake-1.5.0\n"
          ]
        }
      ]
    },
    {
      "cell_type": "code",
      "metadata": {
        "colab": {
          "base_uri": "https://localhost:8080/"
        },
        "id": "Wv-z5rShvWOW",
        "outputId": "73403182-cc3d-4d9f-a1b1-ac4d1b7b589a"
      },
      "source": [
        "import RAKE\n",
        "import nltk\n",
        "nltk.download('stopwords')\n",
        "from nltk.corpus import stopwords\n",
        "stop = stopwords.words('english')"
      ],
      "execution_count": 19,
      "outputs": [
        {
          "output_type": "stream",
          "name": "stdout",
          "text": [
            "[nltk_data] Downloading package stopwords to /root/nltk_data...\n",
            "[nltk_data]   Package stopwords is already up-to-date!\n"
          ]
        }
      ]
    },
    {
      "cell_type": "code",
      "metadata": {
        "id": "rRQoOF9lvypK"
      },
      "source": [
        "rake = RAKE.Rake(stop)"
      ],
      "execution_count": 20,
      "outputs": []
    },
    {
      "cell_type": "markdown",
      "metadata": {
        "id": "QlCcsWNIs5EG"
      },
      "source": [
        "Достаем ключевые слова, чтобы на их основании выделить самостоятельно те из них, которые нам кажутся хорошими"
      ]
    },
    {
      "cell_type": "code",
      "metadata": {
        "id": "kjOrI2sSwUEg"
      },
      "source": [
        "kws = []\n",
        "for i in n_texts:\n",
        "    kw = rake.run(i, maxWords=3, minFrequency=1)\n",
        "    for k in kw:\n",
        "        kws.append(k[0])"
      ],
      "execution_count": 52,
      "outputs": []
    },
    {
      "cell_type": "code",
      "metadata": {
        "colab": {
          "base_uri": "https://localhost:8080/"
        },
        "id": "L95CEiLYyZPC",
        "outputId": "e17a2ffb-110d-4947-8fe6-6c30cf9947bf"
      },
      "source": [
        "from collections import Counter\n",
        "Counter(kws).most_common(100)"
      ],
      "execution_count": 53,
      "outputs": [
        {
          "output_type": "execute_result",
          "data": {
            "text/plain": [
              "[('n', 26574),\n",
              " ('use', 25318),\n",
              " ('product', 22475),\n",
              " ('love', 15824),\n",
              " ('hair', 14573),\n",
              " ('like', 13650),\n",
              " ('used', 13327),\n",
              " ('skin', 12162),\n",
              " ('using', 11449),\n",
              " ('get', 11206),\n",
              " ('wa', 10786),\n",
              " ('make', 10511),\n",
              " ('one', 9643),\n",
              " ('doe n', 8333),\n",
              " ('work', 8091),\n",
              " ('well', 8017),\n",
              " ('face', 7807),\n",
              " ('day', 7781),\n",
              " ('time', 7626),\n",
              " ('think', 7393),\n",
              " ('try', 7017),\n",
              " ('bought', 6935),\n",
              " ('doe', 6926),\n",
              " ('lot', 6671),\n",
              " ('ha', 6643),\n",
              " ('much', 6475),\n",
              " ('need', 6273),\n",
              " ('color', 6155),\n",
              " ('smell', 6112),\n",
              " ('give', 6089),\n",
              " ('great', 6027),\n",
              " ('good', 5949),\n",
              " ('tried', 5947),\n",
              " ('put', 5940),\n",
              " ('go', 5807),\n",
              " ('dry', 5663),\n",
              " ('price', 5572),\n",
              " ('know', 5528),\n",
              " ('buy', 5460),\n",
              " ('want', 5459),\n",
              " ('would', 5380),\n",
              " ('see', 5350),\n",
              " ('find', 5284),\n",
              " ('say', 5258),\n",
              " ('found', 4954),\n",
              " ('year', 4876),\n",
              " ('ca n', 4740),\n",
              " ('got', 4709),\n",
              " ('way', 4559),\n",
              " ('week', 4513),\n",
              " ('keep', 4279),\n",
              " ('last', 4134),\n",
              " ('apply', 4083),\n",
              " ('sure', 3855),\n",
              " ('easy', 3801),\n",
              " ('feel', 3775),\n",
              " ('take', 3773),\n",
              " ('brush', 3668),\n",
              " ('stuff', 3644),\n",
              " ('leave', 3643),\n",
              " ('hand', 3610),\n",
              " ('thought', 3578),\n",
              " ('come', 3566),\n",
              " ('review', 3502),\n",
              " ('made', 3468),\n",
              " ('bottle', 3438),\n",
              " ('far', 3436),\n",
              " ('scent', 3433),\n",
              " ('little', 3423),\n",
              " ('wash', 3418),\n",
              " ('soft', 3417),\n",
              " ('also', 3307),\n",
              " ('eye', 3279),\n",
              " ('bit', 3263),\n",
              " ('month', 3239),\n",
              " ('going', 3193),\n",
              " ('decided', 3155),\n",
              " ('look', 3132),\n",
              " ('amazon', 3095),\n",
              " ('recommend', 3038),\n",
              " ('happy', 3019),\n",
              " ('really', 3012),\n",
              " ('problem', 3004),\n",
              " ('help', 2981),\n",
              " ('thing', 2954),\n",
              " ('long', 2935),\n",
              " ('smooth', 2916),\n",
              " ('difference', 2895),\n",
              " ('end', 2879),\n",
              " ('conditioner', 2859),\n",
              " ('even', 2857),\n",
              " ('result', 2849),\n",
              " ('purchased', 2843),\n",
              " ('nice', 2828),\n",
              " ('leaf', 2776),\n",
              " ('money', 2651),\n",
              " ('still', 2642),\n",
              " ('purchase', 2635),\n",
              " ('night', 2626),\n",
              " ('lotion', 2617)]"
            ]
          },
          "metadata": {},
          "execution_count": 53
        }
      ]
    },
    {
      "cell_type": "markdown",
      "metadata": {
        "id": "OU86ITOKtCYu"
      },
      "source": [
        "Составляем свой список хороших слов"
      ]
    },
    {
      "cell_type": "code",
      "metadata": {
        "id": "LL5buraHB-Nn"
      },
      "source": [
        "words = ['product', 'hair', 'skin', 'face', 'brush', 'bottle', 'scent', 'wash', 'conditioner', 'lotion']"
      ],
      "execution_count": 23,
      "outputs": []
    },
    {
      "cell_type": "code",
      "metadata": {
        "colab": {
          "base_uri": "https://localhost:8080/"
        },
        "id": "7nHKXB9FGr64",
        "outputId": "97cd6f6a-9b8f-4a14-9dcf-b575c2d1ff7c"
      },
      "source": [
        "!wget http://vectors.nlpl.eu/repository/20/5.zip"
      ],
      "execution_count": 24,
      "outputs": [
        {
          "output_type": "stream",
          "name": "stdout",
          "text": [
            "--2021-12-04 17:28:06--  http://vectors.nlpl.eu/repository/20/5.zip\n",
            "Resolving vectors.nlpl.eu (vectors.nlpl.eu)... 129.240.189.181\n",
            "Connecting to vectors.nlpl.eu (vectors.nlpl.eu)|129.240.189.181|:80... connected.\n",
            "HTTP request sent, awaiting response... 200 OK\n",
            "Length: 574653290 (548M) [application/zip]\n",
            "Saving to: ‘5.zip’\n",
            "\n",
            "5.zip               100%[===================>] 548.03M  22.6MB/s    in 25s     \n",
            "\n",
            "2021-12-04 17:28:32 (22.0 MB/s) - ‘5.zip’ saved [574653290/574653290]\n",
            "\n"
          ]
        }
      ]
    },
    {
      "cell_type": "code",
      "metadata": {
        "colab": {
          "base_uri": "https://localhost:8080/"
        },
        "id": "bomxUkpQGsmh",
        "outputId": "c6bc4e62-04a4-4653-c1ab-30693ce467a3"
      },
      "source": [
        "!unzip '5.zip'"
      ],
      "execution_count": 25,
      "outputs": [
        {
          "output_type": "stream",
          "name": "stdout",
          "text": [
            "Archive:  5.zip\n",
            "  inflating: meta.json               \n",
            "  inflating: model.bin               \n",
            "  inflating: model.txt               \n",
            "  inflating: README                  \n"
          ]
        }
      ]
    },
    {
      "cell_type": "markdown",
      "metadata": {
        "id": "XifymF7-tGuj"
      },
      "source": [
        "Добавляем слова, похожие на хорошие."
      ]
    },
    {
      "cell_type": "code",
      "metadata": {
        "id": "4pEXl9n6GZcw"
      },
      "source": [
        "from gensim.models.keyedvectors import KeyedVectors\n",
        "model = KeyedVectors.load_word2vec_format('model.bin', binary=True)\n",
        "model.save_word2vec_format('model.txt', binary=False)\n",
        "def find_similar(word, model=model):\n",
        "    if word in model:\n",
        "        return model.most_similar(word, topn=1)[0][0]"
      ],
      "execution_count": 26,
      "outputs": []
    },
    {
      "cell_type": "code",
      "metadata": {
        "id": "UnE1AHLqIl1w"
      },
      "source": [
        "new = []\n",
        "for word in words:\n",
        "    new_word = find_similar(word)\n",
        "    if new_word not in words and new_word != None:\n",
        "        new.append(new_word)\n",
        "words.extend(new)"
      ],
      "execution_count": 54,
      "outputs": []
    },
    {
      "cell_type": "markdown",
      "metadata": {
        "id": "OySqNmgztKi7"
      },
      "source": [
        "Вот они:"
      ]
    },
    {
      "cell_type": "code",
      "metadata": {
        "colab": {
          "base_uri": "https://localhost:8080/"
        },
        "id": "INYuEQJCJAwR",
        "outputId": "bde39888-ad65-4574-b25b-7ad11d5c9a26"
      },
      "source": [
        "words"
      ],
      "execution_count": 55,
      "outputs": [
        {
          "output_type": "execute_result",
          "data": {
            "text/plain": [
              "['product',\n",
              " 'hair',\n",
              " 'skin',\n",
              " 'face',\n",
              " 'brush',\n",
              " 'bottle',\n",
              " 'scent',\n",
              " 'wash',\n",
              " 'conditioner',\n",
              " 'lotion',\n",
              " 'consumer',\n",
              " 'beard',\n",
              " 'mucous',\n",
              " 'overcome',\n",
              " 'brushing',\n",
              " 'bottled',\n",
              " 'odor',\n",
              " 'rinse',\n",
              " 'dehumidifier',\n",
              " 'shampoo',\n",
              " 'marketer',\n",
              " 'moustache',\n",
              " 'mucosa',\n",
              " 'spite',\n",
              " 'carbonated',\n",
              " 'odour',\n",
              " 'soak',\n",
              " 'humidifier']"
            ]
          },
          "metadata": {},
          "execution_count": 55
        }
      ]
    },
    {
      "cell_type": "markdown",
      "metadata": {
        "id": "6KEop_PYtMRC"
      },
      "source": [
        "Вытаскиваем биграммы"
      ]
    },
    {
      "cell_type": "code",
      "metadata": {
        "id": "2L47hPc8JQ2d"
      },
      "source": [
        "def context(text):\n",
        "    text = text.split()\n",
        "    bigrams = []\n",
        "    for w in text:\n",
        "        if w in words:\n",
        "            n = text.index(w)\n",
        "            try:\n",
        "              bigrams.append(' '.join([text[n-1], text[n]]))\n",
        "              bigrams.append(' '.join([text[n], text[n+1]]))\n",
        "            except IndexError:\n",
        "                continue\n",
        "    return bigrams"
      ],
      "execution_count": 56,
      "outputs": []
    },
    {
      "cell_type": "code",
      "metadata": {
        "id": "q4dT0spCKmxY"
      },
      "source": [
        "keygrams = []\n",
        "for i in n_texts:\n",
        "  keygrams.extend(context(i))"
      ],
      "execution_count": 57,
      "outputs": []
    },
    {
      "cell_type": "code",
      "metadata": {
        "colab": {
          "base_uri": "https://localhost:8080/"
        },
        "id": "ABnSRIndLBSI",
        "outputId": "02d5dd5d-d141-4668-92df-a702ec735a9f"
      },
      "source": [
        "Counter(keygrams).most_common(50)"
      ],
      "execution_count": 59,
      "outputs": [
        {
          "output_type": "execute_result",
          "data": {
            "text/plain": [
              "[('this product', 30383),\n",
              " ('my hair', 27135),\n",
              " ('my skin', 18378),\n",
              " ('my face', 11268),\n",
              " ('hair and', 7953),\n",
              " ('product i', 7036),\n",
              " ('skin and', 6163),\n",
              " ('the product', 6136),\n",
              " ('hair i', 5541),\n",
              " ('your hair', 4747),\n",
              " ('your skin', 4648),\n",
              " ('product is', 4570),\n",
              " ('product and', 4385),\n",
              " ('product for', 4373),\n",
              " ('the skin', 4217),\n",
              " ('hair is', 4055),\n",
              " ('sensitive skin', 3716),\n",
              " ('skin i', 3711),\n",
              " ('the scent', 3316),\n",
              " ('the bottle', 3293),\n",
              " ('dry skin', 2879),\n",
              " ('product that', 2799),\n",
              " ('hair that', 2737),\n",
              " ('skin is', 2541),\n",
              " ('your face', 2517),\n",
              " ('curly hair', 2429),\n",
              " ('product it', 2410),\n",
              " ('this brush', 2293),\n",
              " ('product to', 2245),\n",
              " ('hair product', 2238),\n",
              " ('the hair', 2221),\n",
              " ('this lotion', 2191),\n",
              " ('this shampoo', 2170),\n",
              " ('face and', 2147),\n",
              " ('hair it', 2118),\n",
              " ('body wash', 2081),\n",
              " ('face wash', 2081),\n",
              " ('the brush', 2080),\n",
              " ('shampoo and', 2047),\n",
              " ('great product', 2044),\n",
              " ('hair dryer', 1939),\n",
              " ('product but', 1847),\n",
              " ('fine hair', 1747),\n",
              " ('scent is', 1742),\n",
              " ('hair but', 1695),\n",
              " ('oily skin', 1672),\n",
              " ('skin it', 1660),\n",
              " ('a product', 1606),\n",
              " ('product in', 1580),\n",
              " ('wash my', 1537)]"
            ]
          },
          "metadata": {},
          "execution_count": 59
        }
      ]
    },
    {
      "cell_type": "markdown",
      "metadata": {
        "id": "WNEbduROtTa6"
      },
      "source": [
        "Все, биграммы вытащили, можно переходить к метрикам."
      ]
    },
    {
      "cell_type": "code",
      "metadata": {
        "id": "6ZLn_EzoLiBO"
      },
      "source": [
        "from nltk.collocations import *"
      ],
      "execution_count": 32,
      "outputs": []
    },
    {
      "cell_type": "code",
      "metadata": {
        "id": "nNtVbFsfWCMe"
      },
      "source": [
        "m = nltk.collocations.BigramAssocMeasures()"
      ],
      "execution_count": 33,
      "outputs": []
    },
    {
      "cell_type": "code",
      "metadata": {
        "id": "61TioGTNWKOV"
      },
      "source": [
        "list_bigrams = []\n",
        "for i in keygrams:\n",
        "  bi = i.split(' ')\n",
        "  list_bigrams.append(bi)"
      ],
      "execution_count": 60,
      "outputs": []
    },
    {
      "cell_type": "code",
      "metadata": {
        "id": "OWzmmqEZkcYU"
      },
      "source": [
        "finder = BigramCollocationFinder.from_documents(list_bigrams)"
      ],
      "execution_count": 64,
      "outputs": []
    },
    {
      "cell_type": "code",
      "metadata": {
        "colab": {
          "base_uri": "https://localhost:8080/"
        },
        "id": "4owsp-Q2ksXN",
        "outputId": "8dcdece7-b024-49c6-8103-aa6fed053038"
      },
      "source": [
        "likelihood = finder.score_ngrams(m.likelihood_ratio)\n",
        "likelihood[:20]"
      ],
      "execution_count": 65,
      "outputs": [
        {
          "output_type": "execute_result",
          "data": {
            "text/plain": [
              "[(('this', 'product'), 83123.24919164405),\n",
              " (('hair', 'hair'), 45141.90119643502),\n",
              " (('product', 'hair'), 40820.54129777351),\n",
              " (('my', 'hair'), 38641.58719553852),\n",
              " (('product', 'product'), 36793.742519346706),\n",
              " (('skin', 'hair'), 30173.782715461053),\n",
              " (('hair', 'skin'), 29483.885885844677),\n",
              " (('product', 'skin'), 27571.8398757189),\n",
              " (('hair', 'product'), 26018.20091885026),\n",
              " (('my', 'skin'), 23412.302231723068),\n",
              " (('skin', 'product'), 23269.27823813095),\n",
              " (('my', 'face'), 22496.377324083358),\n",
              " (('skin', 'skin'), 20515.476833806704),\n",
              " (('sensitive', 'skin'), 17233.03908583506),\n",
              " (('my', 'product'), 14610.462206377244),\n",
              " (('body', 'wash'), 12981.425690976583),\n",
              " (('hair', 'my'), 11746.745382553696),\n",
              " (('face', 'hair'), 11607.026889232424),\n",
              " (('hair', 'face'), 11376.317886793542),\n",
              " (('product', 'my'), 11277.878118990973)]"
            ]
          },
          "metadata": {},
          "execution_count": 65
        }
      ]
    },
    {
      "cell_type": "code",
      "metadata": {
        "colab": {
          "base_uri": "https://localhost:8080/"
        },
        "id": "7FU7zOidlAZT",
        "outputId": "860ff099-bd2e-46c4-9e8b-9a6a775db028"
      },
      "source": [
        "pmi = finder.score_ngrams(m.pmi)\n",
        "pmi[:20]"
      ],
      "execution_count": 66,
      "outputs": [
        {
          "output_type": "execute_result",
          "data": {
            "text/plain": [
              "[(('odour', 'ortaste'), 16.001322666237),\n",
              " (('mucous', 'eewww'), 15.711816049042017),\n",
              " (('mucous', 'membrane'), 15.711816049042016),\n",
              " (('tankless', 'humidifier'), 15.363892745621708),\n",
              " (('smart', 'marketer'), 15.264357072070794),\n",
              " ((\"'ve\", 'bottled'), 14.470807949538221),\n",
              " (('bottled', 'witch'), 14.470807949538221),\n",
              " (('filtered', 'bottled'), 14.470807949538221),\n",
              " (('togetherand', 'bottled'), 14.470807949538221),\n",
              " (('captivating', 'odour'), 14.416360165515844),\n",
              " (('pungent', 'odour'), 14.001322666237002),\n",
              " (('gooey', 'mucous'), 13.904461126984412),\n",
              " (('room', 'humidifier'), 13.778930244900554),\n",
              " (('carbonated', 'drink'), 13.711816049042016),\n",
              " (('sorry', 'mucous'), 13.12685354832086),\n",
              " (('dehumidifier', 'highly'), 13.083784826428975),\n",
              " (('mist', 'humidifier'), 12.778930244900554),\n",
              " ((\"'acne\", 'beard'), 12.703642117596317),\n",
              " (('beard', 'stood'), 12.703642117596317),\n",
              " (('trimmed', 'beard'), 12.703642117596317)]"
            ]
          },
          "metadata": {},
          "execution_count": 66
        }
      ]
    },
    {
      "cell_type": "code",
      "metadata": {
        "colab": {
          "base_uri": "https://localhost:8080/"
        },
        "id": "PMaVkK_zlIL3",
        "outputId": "e71edf20-9107-4708-e16b-ae43ed39245a"
      },
      "source": [
        "dice = finder.score_ngrams(m.dice)\n",
        "dice[:20]"
      ],
      "execution_count": 67,
      "outputs": [
        {
          "output_type": "execute_result",
          "data": {
            "text/plain": [
              "[(('this', 'product'), 0.3311949856928737),\n",
              " (('mucous', 'membrane'), 0.3076923076923077),\n",
              " (('my', 'hair'), 0.25284432393145667),\n",
              " (('my', 'skin'), 0.21937724936883382),\n",
              " (('my', 'face'), 0.21698231289897074),\n",
              " (('body', 'wash'), 0.18398019626911855),\n",
              " (('mucous', 'eewww'), 0.16666666666666666),\n",
              " (('smart', 'marketer'), 0.15384615384615385),\n",
              " (('gooey', 'mucous'), 0.13793103448275862),\n",
              " (('tankless', 'humidifier'), 0.13333333333333333),\n",
              " (('the', 'bottle'), 0.1299475158833511),\n",
              " (('the', 'scent'), 0.1288192218790669),\n",
              " (('consumer', 'report'), 0.11946902654867257),\n",
              " (('room', 'humidifier'), 0.11764705882352941),\n",
              " (('odour', 'ortaste'), 0.10526315789473684),\n",
              " (('rinse', 'off'), 0.10293571163136381),\n",
              " (('soak', 'into'), 0.1013745704467354),\n",
              " (('bottle', 'of'), 0.09875074360499703),\n",
              " (('captivating', 'odour'), 0.09523809523809523),\n",
              " (('your', 'face'), 0.09262700793052055)]"
            ]
          },
          "metadata": {},
          "execution_count": 67
        }
      ]
    },
    {
      "cell_type": "markdown",
      "metadata": {
        "id": "vt7YslOcle6O"
      },
      "source": [
        "Честно говоря, все работает ужасно...\n",
        "Но давайте считать что лучше всего работает dice, кажется, это похоже на правду. Из лучших по его мнению и будем брать биграммы, которые должны лучше всего соответствовать пяти словам, которые я выбрала"
      ]
    },
    {
      "cell_type": "code",
      "metadata": {
        "id": "TAN7kFgcliKI"
      },
      "source": [
        "set_bi = list(set(keygrams))"
      ],
      "execution_count": 69,
      "outputs": []
    },
    {
      "cell_type": "code",
      "metadata": {
        "id": "oQgKTNYlnNJb"
      },
      "source": [
        "best = ['product', 'hair', 'skin', 'face', 'shampoo']"
      ],
      "execution_count": 70,
      "outputs": []
    },
    {
      "cell_type": "code",
      "metadata": {
        "id": "JQV1lkBjpKI-"
      },
      "source": [
        "colls = []\n",
        "for j in range(len(best)):\n",
        "  colls.append([])\n",
        "  for i in dice[:100]:\n",
        "    if best[j] == i[0][0] or best[j] == i[0][1]:\n",
        "      colls[j].append(i[0])"
      ],
      "execution_count": 75,
      "outputs": []
    },
    {
      "cell_type": "code",
      "metadata": {
        "colab": {
          "base_uri": "https://localhost:8080/"
        },
        "id": "kCqpdFVqqd-2",
        "outputId": "231fc1b3-8d98-4e32-c36c-b3c6f0798157"
      },
      "source": [
        "for i in range(len(colls)):\n",
        "  print('<<<'+best[i]+'>>>')\n",
        "  for j in colls[i]:\n",
        "    print(' '.join(j))"
      ],
      "execution_count": 77,
      "outputs": [
        {
          "output_type": "stream",
          "name": "stdout",
          "text": [
            "<<<product>>>\n",
            "this product\n",
            "product i\n",
            "the product\n",
            "product for\n",
            "product is\n",
            "product and\n",
            "product that\n",
            "<<<hair>>>\n",
            "my hair\n",
            "hair and\n",
            "hair i\n",
            "your hair\n",
            "hair is\n",
            "<<<skin>>>\n",
            "my skin\n",
            "skin and\n",
            "your skin\n",
            "sensitive skin\n",
            "the skin\n",
            "skin i\n",
            "dry skin\n",
            "skin is\n",
            "<<<face>>>\n",
            "my face\n",
            "your face\n",
            "face wash\n",
            "face and\n",
            "face i\n",
            "<<<shampoo>>>\n",
            "shampoo and\n",
            "this shampoo\n"
          ]
        }
      ]
    },
    {
      "cell_type": "markdown",
      "metadata": {
        "id": "C4FWs9Z2ttF0"
      },
      "source": [
        "Вот и они. Как мы можем видеть, все работает очень плохо и достает какой-то шлак. Надо было выбирать другой алгоритм)))))"
      ]
    }
  ]
}